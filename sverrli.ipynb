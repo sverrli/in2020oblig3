{
 "cells": [
  {
   "cell_type": "markdown",
   "metadata": {},
   "source": [
    "# IN2020 Assignment 3 - Experiment and Humans"
   ]
  },
  {
   "cell_type": "markdown",
   "metadata": {},
   "source": [
    "## Part A: Statistical analysis\n",
    "\n",
    "Familiarizing myself with the data."
   ]
  },
  {
   "cell_type": "code",
   "execution_count": 103,
   "metadata": {},
   "outputs": [],
   "source": [
    "# Import libraries\n",
    "import matplotlib.pyplot as plt\n",
    "import numpy as np\n",
    "import pandas as pd\n",
    "import requests\n",
    "import seaborn as sns\n",
    "import scipy\n",
    "from scipy import stats\n",
    "import statistics\n",
    "import statsmodels\n",
    "from statsmodels.stats.anova import AnovaRM"
   ]
  },
  {
   "cell_type": "markdown",
   "metadata": {},
   "source": [
    "### Data gathering"
   ]
  },
  {
   "cell_type": "code",
   "execution_count": 2,
   "metadata": {},
   "outputs": [],
   "source": [
    "# Downloading with requests\n",
    "url = 'https://www.uio.no/studier/emner/matnat/ifi/IN2020/h18/assignments/dataset_1.xlsx'\n",
    "r = requests.get(url, allow_redirects=True)\n",
    "\n",
    "with open('dataset_1.xlsx', 'wb') as data:\n",
    "    data.write(r.content)"
   ]
  },
  {
   "cell_type": "code",
   "execution_count": 3,
   "metadata": {},
   "outputs": [],
   "source": [
    "# Reading in data\n",
    "df = pd.read_excel('dataset_1.xlsx')"
   ]
  },
  {
   "cell_type": "code",
   "execution_count": 4,
   "metadata": {},
   "outputs": [
    {
     "data": {
      "text/html": [
       "<div>\n",
       "<style scoped>\n",
       "    .dataframe tbody tr th:only-of-type {\n",
       "        vertical-align: middle;\n",
       "    }\n",
       "\n",
       "    .dataframe tbody tr th {\n",
       "        vertical-align: top;\n",
       "    }\n",
       "\n",
       "    .dataframe thead th {\n",
       "        text-align: right;\n",
       "    }\n",
       "</style>\n",
       "<table border=\"1\" class=\"dataframe\">\n",
       "  <thead>\n",
       "    <tr style=\"text-align: right;\">\n",
       "      <th></th>\n",
       "      <th>PARTICIPANTS</th>\n",
       "      <th>Unnamed: 1</th>\n",
       "      <th>Unnamed: 2</th>\n",
       "      <th>Unnamed: 3</th>\n",
       "      <th>PROTOTYPE 1</th>\n",
       "      <th>Unnamed: 5</th>\n",
       "      <th>Unnamed: 6</th>\n",
       "      <th>Unnamed: 7</th>\n",
       "      <th>Unnamed: 8</th>\n",
       "      <th>Unnamed: 9</th>\n",
       "      <th>...</th>\n",
       "      <th>Unnamed: 12</th>\n",
       "      <th>Unnamed: 13</th>\n",
       "      <th>Unnamed: 14</th>\n",
       "      <th>Unnamed: 15</th>\n",
       "      <th>PROTOTYPE 3</th>\n",
       "      <th>Unnamed: 17</th>\n",
       "      <th>Unnamed: 18</th>\n",
       "      <th>Unnamed: 19</th>\n",
       "      <th>Unnamed: 20</th>\n",
       "      <th>Unnamed: 21</th>\n",
       "    </tr>\n",
       "  </thead>\n",
       "  <tbody>\n",
       "    <tr>\n",
       "      <th>0</th>\n",
       "      <td>Group</td>\n",
       "      <td>Participant</td>\n",
       "      <td>Age</td>\n",
       "      <td>Disability or illness</td>\n",
       "      <td>Arm-hand steadiness</td>\n",
       "      <td>Manual dexterity</td>\n",
       "      <td>Finger dexterity</td>\n",
       "      <td>Control precision</td>\n",
       "      <td>Multi-Limb Co-ordination</td>\n",
       "      <td>Wrist-Finger Speed</td>\n",
       "      <td>...</td>\n",
       "      <td>Finger dexterity</td>\n",
       "      <td>Control precision</td>\n",
       "      <td>Multi-Limb Co-ordination</td>\n",
       "      <td>Wrist-Finger Speed</td>\n",
       "      <td>Arm-hand steadiness</td>\n",
       "      <td>Manual dexterity</td>\n",
       "      <td>Finger dexterity</td>\n",
       "      <td>Control precision</td>\n",
       "      <td>Multi-Limb Co-ordination</td>\n",
       "      <td>Wrist-Finger Speed</td>\n",
       "    </tr>\n",
       "    <tr>\n",
       "      <th>1</th>\n",
       "      <td>User</td>\n",
       "      <td>Geir</td>\n",
       "      <td>85</td>\n",
       "      <td>Tremor</td>\n",
       "      <td>7</td>\n",
       "      <td>6</td>\n",
       "      <td>5</td>\n",
       "      <td>4</td>\n",
       "      <td>7</td>\n",
       "      <td>5</td>\n",
       "      <td>...</td>\n",
       "      <td>4</td>\n",
       "      <td>3</td>\n",
       "      <td>1</td>\n",
       "      <td>5</td>\n",
       "      <td>10</td>\n",
       "      <td>4</td>\n",
       "      <td>3</td>\n",
       "      <td>5</td>\n",
       "      <td>9</td>\n",
       "      <td>5</td>\n",
       "    </tr>\n",
       "    <tr>\n",
       "      <th>2</th>\n",
       "      <td>User</td>\n",
       "      <td>Kjell</td>\n",
       "      <td>82</td>\n",
       "      <td>Parkinson's disease</td>\n",
       "      <td>6</td>\n",
       "      <td>8</td>\n",
       "      <td>2</td>\n",
       "      <td>4</td>\n",
       "      <td>6</td>\n",
       "      <td>3</td>\n",
       "      <td>...</td>\n",
       "      <td>3</td>\n",
       "      <td>4</td>\n",
       "      <td>2</td>\n",
       "      <td>5</td>\n",
       "      <td>3</td>\n",
       "      <td>2</td>\n",
       "      <td>2</td>\n",
       "      <td>3</td>\n",
       "      <td>7</td>\n",
       "      <td>5</td>\n",
       "    </tr>\n",
       "    <tr>\n",
       "      <th>3</th>\n",
       "      <td>User</td>\n",
       "      <td>Truls O.</td>\n",
       "      <td>86</td>\n",
       "      <td>Muscle stifness</td>\n",
       "      <td>7</td>\n",
       "      <td>5</td>\n",
       "      <td>4</td>\n",
       "      <td>2</td>\n",
       "      <td>9</td>\n",
       "      <td>2</td>\n",
       "      <td>...</td>\n",
       "      <td>3</td>\n",
       "      <td>5</td>\n",
       "      <td>3</td>\n",
       "      <td>5</td>\n",
       "      <td>8</td>\n",
       "      <td>3</td>\n",
       "      <td>5</td>\n",
       "      <td>5</td>\n",
       "      <td>2</td>\n",
       "      <td>5</td>\n",
       "    </tr>\n",
       "    <tr>\n",
       "      <th>4</th>\n",
       "      <td>User</td>\n",
       "      <td>Oda</td>\n",
       "      <td>70-71</td>\n",
       "      <td>Osteoarthritis</td>\n",
       "      <td>4</td>\n",
       "      <td>4</td>\n",
       "      <td>1</td>\n",
       "      <td>2</td>\n",
       "      <td>4</td>\n",
       "      <td>1</td>\n",
       "      <td>...</td>\n",
       "      <td>8</td>\n",
       "      <td>4</td>\n",
       "      <td>5</td>\n",
       "      <td>7</td>\n",
       "      <td>5</td>\n",
       "      <td>2</td>\n",
       "      <td>4</td>\n",
       "      <td>6</td>\n",
       "      <td>5</td>\n",
       "      <td>8</td>\n",
       "    </tr>\n",
       "  </tbody>\n",
       "</table>\n",
       "<p>5 rows × 22 columns</p>\n",
       "</div>"
      ],
      "text/plain": [
       "  PARTICIPANTS   Unnamed: 1 Unnamed: 2             Unnamed: 3  \\\n",
       "0        Group  Participant        Age  Disability or illness   \n",
       "1         User         Geir         85                 Tremor   \n",
       "2         User        Kjell         82    Parkinson's disease   \n",
       "3         User     Truls O.         86        Muscle stifness   \n",
       "4         User          Oda      70-71         Osteoarthritis   \n",
       "\n",
       "           PROTOTYPE 1        Unnamed: 5        Unnamed: 6         Unnamed: 7  \\\n",
       "0  Arm-hand steadiness  Manual dexterity  Finger dexterity  Control precision   \n",
       "1                    7                 6                 5                  4   \n",
       "2                    6                 8                 2                  4   \n",
       "3                    7                 5                 4                  2   \n",
       "4                    4                 4                 1                  2   \n",
       "\n",
       "                 Unnamed: 8          Unnamed: 9         ...          \\\n",
       "0  Multi-Limb Co-ordination  Wrist-Finger Speed         ...           \n",
       "1                         7                   5         ...           \n",
       "2                         6                   3         ...           \n",
       "3                         9                   2         ...           \n",
       "4                         4                   1         ...           \n",
       "\n",
       "        Unnamed: 12        Unnamed: 13               Unnamed: 14  \\\n",
       "0  Finger dexterity  Control precision  Multi-Limb Co-ordination   \n",
       "1                 4                  3                         1   \n",
       "2                 3                  4                         2   \n",
       "3                 3                  5                         3   \n",
       "4                 8                  4                         5   \n",
       "\n",
       "          Unnamed: 15          PROTOTYPE 3       Unnamed: 17  \\\n",
       "0  Wrist-Finger Speed  Arm-hand steadiness  Manual dexterity   \n",
       "1                   5                   10                 4   \n",
       "2                   5                    3                 2   \n",
       "3                   5                    8                 3   \n",
       "4                   7                    5                 2   \n",
       "\n",
       "        Unnamed: 18        Unnamed: 19               Unnamed: 20  \\\n",
       "0  Finger dexterity  Control precision  Multi-Limb Co-ordination   \n",
       "1                 3                  5                         9   \n",
       "2                 2                  3                         7   \n",
       "3                 5                  5                         2   \n",
       "4                 4                  6                         5   \n",
       "\n",
       "          Unnamed: 21  \n",
       "0  Wrist-Finger Speed  \n",
       "1                   5  \n",
       "2                   5  \n",
       "3                   5  \n",
       "4                   8  \n",
       "\n",
       "[5 rows x 22 columns]"
      ]
     },
     "execution_count": 4,
     "metadata": {},
     "output_type": "execute_result"
    }
   ],
   "source": [
    "# Initial assessment of the data set\n",
    "df.head()"
   ]
  },
  {
   "cell_type": "markdown",
   "metadata": {},
   "source": [
    "### Data cleaning"
   ]
  },
  {
   "cell_type": "code",
   "execution_count": 5,
   "metadata": {},
   "outputs": [],
   "source": [
    "# Preparing data set for analysis\n",
    "\n",
    "# Fixing columns\n",
    "df.columns = df.iloc[0]\n",
    "df.drop(df.index[0], inplace=True)\n",
    "\n",
    "# Renaming some columns\n",
    "df.columns = pd.io.parsers.ParserBase({'names':df.columns})._maybe_dedup_names(df.columns)\n",
    "\n",
    "df.rename(index=str, columns={'Arm-hand steadiness' : 'prototype_1_arm-hand_steadiness', \n",
    "                              'Manual dexterity' : 'prototype_1_manual_dexterity', \n",
    "                              'Finger dexterity' : 'prototype_1_finger_dexterity',\n",
    "                              'Control precision' : 'prototype_1_control_precision',\n",
    "                              'Multi-Limb Co-ordination' : 'prototype_1_multi-limb_co-ordination',\n",
    "                              'Wrist-Finger Speed' : 'prototype_1_wrist-finger_speed',\n",
    "                              'Arm-hand steadiness.1' : 'prototype_2_arm-hand_steadiness', \n",
    "                              'Manual dexterity.1' : 'prototype_2_manual_dexterity', \n",
    "                              'Finger dexterity.1' : 'prototype_2_finger_dexterity',\n",
    "                              'Control precision.1' : 'prototype_2_control_precision',\n",
    "                              'Multi-Limb Co-ordination.1' : 'prototype_2_multi-limb_co-ordination',\n",
    "                              'Wrist-Finger Speed.1' : 'prototype_2_wrist-finger_speed',\n",
    "                              'Arm-hand steadiness.2' : 'prototype_3_arm-hand_steadiness', \n",
    "                              'Manual dexterity.2' : 'prototype_3_manual_dexterity', \n",
    "                              'Finger dexterity.2' : 'prototype_3_finger_dexterity',\n",
    "                              'Control precision.2' : 'prototype_3_control_precision',\n",
    "                              'Multi-Limb Co-ordination.2' : 'prototype_3_multi-limb_co-ordination',\n",
    "                              'Wrist-Finger Speed.2' : 'prototype_3_wrist-finger_speed',\n",
    "                              'Group' : 'group', 'Participant' : 'name', 'Age' : 'age', \n",
    "                              'Disability or illness' : 'disability_or_illness'},\n",
    "            inplace=True)\n"
   ]
  },
  {
   "cell_type": "code",
   "execution_count": 6,
   "metadata": {},
   "outputs": [
    {
     "name": "stdout",
     "output_type": "stream",
     "text": [
      "<class 'pandas.core.frame.DataFrame'>\n",
      "Index: 53 entries, 1 to 53\n",
      "Data columns (total 22 columns):\n",
      "group                                   53 non-null object\n",
      "name                                    53 non-null object\n",
      "age                                     53 non-null object\n",
      "disability_or_illness                   53 non-null object\n",
      "prototype_1_arm-hand_steadiness         52 non-null object\n",
      "prototype_1_manual_dexterity            52 non-null object\n",
      "prototype_1_finger_dexterity            52 non-null object\n",
      "prototype_1_control_precision           52 non-null object\n",
      "prototype_1_multi-limb_co-ordination    52 non-null object\n",
      "prototype_1_wrist-finger_speed          52 non-null object\n",
      "prototype_2_arm-hand_steadiness         53 non-null object\n",
      "prototype_2_manual_dexterity            53 non-null object\n",
      "prototype_2_finger_dexterity            53 non-null object\n",
      "prototype_2_control_precision           53 non-null object\n",
      "prototype_2_multi-limb_co-ordination    53 non-null object\n",
      "prototype_2_wrist-finger_speed          53 non-null object\n",
      "prototype_3_arm-hand_steadiness         53 non-null object\n",
      "prototype_3_manual_dexterity            53 non-null object\n",
      "prototype_3_finger_dexterity            53 non-null object\n",
      "prototype_3_control_precision           53 non-null object\n",
      "prototype_3_multi-limb_co-ordination    53 non-null object\n",
      "prototype_3_wrist-finger_speed          53 non-null object\n",
      "dtypes: object(22)\n",
      "memory usage: 9.5+ KB\n"
     ]
    }
   ],
   "source": [
    "df.info()"
   ]
  },
  {
   "cell_type": "code",
   "execution_count": 7,
   "metadata": {},
   "outputs": [
    {
     "data": {
      "text/html": [
       "<div>\n",
       "<style scoped>\n",
       "    .dataframe tbody tr th:only-of-type {\n",
       "        vertical-align: middle;\n",
       "    }\n",
       "\n",
       "    .dataframe tbody tr th {\n",
       "        vertical-align: top;\n",
       "    }\n",
       "\n",
       "    .dataframe thead th {\n",
       "        text-align: right;\n",
       "    }\n",
       "</style>\n",
       "<table border=\"1\" class=\"dataframe\">\n",
       "  <thead>\n",
       "    <tr style=\"text-align: right;\">\n",
       "      <th></th>\n",
       "      <th>group</th>\n",
       "      <th>name</th>\n",
       "      <th>age</th>\n",
       "      <th>disability_or_illness</th>\n",
       "      <th>prototype_1_arm-hand_steadiness</th>\n",
       "      <th>prototype_1_manual_dexterity</th>\n",
       "      <th>prototype_1_finger_dexterity</th>\n",
       "      <th>prototype_1_control_precision</th>\n",
       "      <th>prototype_1_multi-limb_co-ordination</th>\n",
       "      <th>prototype_1_wrist-finger_speed</th>\n",
       "      <th>...</th>\n",
       "      <th>prototype_2_finger_dexterity</th>\n",
       "      <th>prototype_2_control_precision</th>\n",
       "      <th>prototype_2_multi-limb_co-ordination</th>\n",
       "      <th>prototype_2_wrist-finger_speed</th>\n",
       "      <th>prototype_3_arm-hand_steadiness</th>\n",
       "      <th>prototype_3_manual_dexterity</th>\n",
       "      <th>prototype_3_finger_dexterity</th>\n",
       "      <th>prototype_3_control_precision</th>\n",
       "      <th>prototype_3_multi-limb_co-ordination</th>\n",
       "      <th>prototype_3_wrist-finger_speed</th>\n",
       "    </tr>\n",
       "  </thead>\n",
       "  <tbody>\n",
       "    <tr>\n",
       "      <th>1</th>\n",
       "      <td>User</td>\n",
       "      <td>Geir</td>\n",
       "      <td>85</td>\n",
       "      <td>Tremor</td>\n",
       "      <td>7</td>\n",
       "      <td>6</td>\n",
       "      <td>5</td>\n",
       "      <td>4</td>\n",
       "      <td>7</td>\n",
       "      <td>5</td>\n",
       "      <td>...</td>\n",
       "      <td>4</td>\n",
       "      <td>3</td>\n",
       "      <td>1</td>\n",
       "      <td>5</td>\n",
       "      <td>10</td>\n",
       "      <td>4</td>\n",
       "      <td>3</td>\n",
       "      <td>5</td>\n",
       "      <td>9</td>\n",
       "      <td>5</td>\n",
       "    </tr>\n",
       "    <tr>\n",
       "      <th>2</th>\n",
       "      <td>User</td>\n",
       "      <td>Kjell</td>\n",
       "      <td>82</td>\n",
       "      <td>Parkinson's disease</td>\n",
       "      <td>6</td>\n",
       "      <td>8</td>\n",
       "      <td>2</td>\n",
       "      <td>4</td>\n",
       "      <td>6</td>\n",
       "      <td>3</td>\n",
       "      <td>...</td>\n",
       "      <td>3</td>\n",
       "      <td>4</td>\n",
       "      <td>2</td>\n",
       "      <td>5</td>\n",
       "      <td>3</td>\n",
       "      <td>2</td>\n",
       "      <td>2</td>\n",
       "      <td>3</td>\n",
       "      <td>7</td>\n",
       "      <td>5</td>\n",
       "    </tr>\n",
       "    <tr>\n",
       "      <th>3</th>\n",
       "      <td>User</td>\n",
       "      <td>Truls O.</td>\n",
       "      <td>86</td>\n",
       "      <td>Muscle stifness</td>\n",
       "      <td>7</td>\n",
       "      <td>5</td>\n",
       "      <td>4</td>\n",
       "      <td>2</td>\n",
       "      <td>9</td>\n",
       "      <td>2</td>\n",
       "      <td>...</td>\n",
       "      <td>3</td>\n",
       "      <td>5</td>\n",
       "      <td>3</td>\n",
       "      <td>5</td>\n",
       "      <td>8</td>\n",
       "      <td>3</td>\n",
       "      <td>5</td>\n",
       "      <td>5</td>\n",
       "      <td>2</td>\n",
       "      <td>5</td>\n",
       "    </tr>\n",
       "    <tr>\n",
       "      <th>4</th>\n",
       "      <td>User</td>\n",
       "      <td>Oda</td>\n",
       "      <td>70-71</td>\n",
       "      <td>Osteoarthritis</td>\n",
       "      <td>4</td>\n",
       "      <td>4</td>\n",
       "      <td>1</td>\n",
       "      <td>2</td>\n",
       "      <td>4</td>\n",
       "      <td>1</td>\n",
       "      <td>...</td>\n",
       "      <td>8</td>\n",
       "      <td>4</td>\n",
       "      <td>5</td>\n",
       "      <td>7</td>\n",
       "      <td>5</td>\n",
       "      <td>2</td>\n",
       "      <td>4</td>\n",
       "      <td>6</td>\n",
       "      <td>5</td>\n",
       "      <td>8</td>\n",
       "    </tr>\n",
       "    <tr>\n",
       "      <th>5</th>\n",
       "      <td>User</td>\n",
       "      <td>Per Tore</td>\n",
       "      <td>f. 1930</td>\n",
       "      <td>Tremor</td>\n",
       "      <td>5</td>\n",
       "      <td>8</td>\n",
       "      <td>3</td>\n",
       "      <td>5</td>\n",
       "      <td>6</td>\n",
       "      <td>3</td>\n",
       "      <td>...</td>\n",
       "      <td>7</td>\n",
       "      <td>7</td>\n",
       "      <td>3</td>\n",
       "      <td>5</td>\n",
       "      <td>9</td>\n",
       "      <td>7</td>\n",
       "      <td>6</td>\n",
       "      <td>7</td>\n",
       "      <td>7</td>\n",
       "      <td>5</td>\n",
       "    </tr>\n",
       "  </tbody>\n",
       "</table>\n",
       "<p>5 rows × 22 columns</p>\n",
       "</div>"
      ],
      "text/plain": [
       "  group      name      age disability_or_illness  \\\n",
       "1  User      Geir       85                Tremor   \n",
       "2  User     Kjell       82   Parkinson's disease   \n",
       "3  User  Truls O.       86       Muscle stifness   \n",
       "4  User       Oda    70-71        Osteoarthritis   \n",
       "5  User  Per Tore  f. 1930                Tremor   \n",
       "\n",
       "  prototype_1_arm-hand_steadiness prototype_1_manual_dexterity  \\\n",
       "1                               7                            6   \n",
       "2                               6                            8   \n",
       "3                               7                            5   \n",
       "4                               4                            4   \n",
       "5                               5                            8   \n",
       "\n",
       "  prototype_1_finger_dexterity prototype_1_control_precision  \\\n",
       "1                            5                             4   \n",
       "2                            2                             4   \n",
       "3                            4                             2   \n",
       "4                            1                             2   \n",
       "5                            3                             5   \n",
       "\n",
       "  prototype_1_multi-limb_co-ordination prototype_1_wrist-finger_speed  \\\n",
       "1                                    7                              5   \n",
       "2                                    6                              3   \n",
       "3                                    9                              2   \n",
       "4                                    4                              1   \n",
       "5                                    6                              3   \n",
       "\n",
       "               ...               prototype_2_finger_dexterity  \\\n",
       "1              ...                                          4   \n",
       "2              ...                                          3   \n",
       "3              ...                                          3   \n",
       "4              ...                                          8   \n",
       "5              ...                                          7   \n",
       "\n",
       "  prototype_2_control_precision prototype_2_multi-limb_co-ordination  \\\n",
       "1                             3                                    1   \n",
       "2                             4                                    2   \n",
       "3                             5                                    3   \n",
       "4                             4                                    5   \n",
       "5                             7                                    3   \n",
       "\n",
       "  prototype_2_wrist-finger_speed prototype_3_arm-hand_steadiness  \\\n",
       "1                              5                              10   \n",
       "2                              5                               3   \n",
       "3                              5                               8   \n",
       "4                              7                               5   \n",
       "5                              5                               9   \n",
       "\n",
       "  prototype_3_manual_dexterity prototype_3_finger_dexterity  \\\n",
       "1                            4                            3   \n",
       "2                            2                            2   \n",
       "3                            3                            5   \n",
       "4                            2                            4   \n",
       "5                            7                            6   \n",
       "\n",
       "  prototype_3_control_precision prototype_3_multi-limb_co-ordination  \\\n",
       "1                             5                                    9   \n",
       "2                             3                                    7   \n",
       "3                             5                                    2   \n",
       "4                             6                                    5   \n",
       "5                             7                                    7   \n",
       "\n",
       "  prototype_3_wrist-finger_speed  \n",
       "1                              5  \n",
       "2                              5  \n",
       "3                              5  \n",
       "4                              8  \n",
       "5                              5  \n",
       "\n",
       "[5 rows x 22 columns]"
      ]
     },
     "execution_count": 7,
     "metadata": {},
     "output_type": "execute_result"
    }
   ],
   "source": [
    "df.head()"
   ]
  },
  {
   "cell_type": "markdown",
   "metadata": {},
   "source": [
    "### Assignment 1\n",
    "Making sure the data set is free from errors and coded. Looking at the dataframe info we see that all columns are of string type, where other data types would be more appropriate.\n",
    "\n",
    "- Fixing 'group' and 'age' values, leaving 'names' with some errors as they don't really impact anything\n",
    "- 'disability_or_illness' could be coded with dummies, but I haven't needed to do it so far\n",
    "- Dropping duplicates\n",
    "- Dropping rows with missing data\n",
    "- Casting columns as proper data types: 'group' and 'disability_or_illness' as categories, rest as int\n",
    "- Adding columns for aggregated prototype scores, as float"
   ]
  },
  {
   "cell_type": "code",
   "execution_count": 8,
   "metadata": {},
   "outputs": [],
   "source": [
    "# Initial visual assessment of the data set revealed several data issues. Going through these in turn.\n",
    "\n",
    "# Setting first 40 group values equal to 'User', and remainder to 'Control'\n",
    "df.loc[:40,'group'] = 'User'\n",
    "df.loc[40:,'group'] = 'Control'\n",
    "\n",
    "# Dropping duplicate row for 'Berit'\n",
    "df.drop(df.index[22], inplace=True)\n",
    "\n",
    "# Dropping Ylva due to missing values for prototype 1. Another option would have been to replace NaNs\n",
    "df.drop(df.index[51], inplace=True)\n",
    "\n",
    "# Need to fix 8 age-values\n",
    "age_dict = {'70-71':'71', 'f. 1930':'88', 'Nitti':'90', 'Straks 91':'90', '88 eller 89':'89', 'f. 1939':'81', \n",
    "            '51-modell':'67', 'f. 1928':'90'}\n",
    "\n",
    "df.replace({'age': age_dict}, inplace=True)\n",
    "\n",
    "# Casting columns\n",
    "df['group'] = df['group'].astype('category')\n",
    "df['age'] = df['age'].astype('int')\n",
    "df['disability_or_illness'] = df['disability_or_illness'].astype('category')\n",
    "\n",
    "columns_to_int = list(df.columns[4:])\n",
    "for col in columns_to_int:\n",
    "    df[col] = df[col].astype('int')"
   ]
  },
  {
   "cell_type": "code",
   "execution_count": 9,
   "metadata": {},
   "outputs": [],
   "source": [
    "# Adding columns with aggregated scores per protoype\n",
    "prototype_1_cols = list(df.columns[4:10])\n",
    "prototype_2_cols = list(df.columns[10:16])\n",
    "prototype_3_cols = list(df.columns[16:22])\n",
    "\n",
    "df['prototype_1_scores'] = df[prototype_1_cols].sum(axis=1) / len(prototype_1_cols)\n",
    "df['prototype_2_scores'] = df[prototype_2_cols].sum(axis=1) / len(prototype_2_cols)\n",
    "df['prototype_3_scores'] = df[prototype_3_cols].sum(axis=1) / len(prototype_3_cols)"
   ]
  },
  {
   "cell_type": "code",
   "execution_count": 74,
   "metadata": {},
   "outputs": [],
   "source": [
    "df_users = df.loc[df['group'] == 'User']\n",
    "df_control = df.loc[df['group'] == 'Control']"
   ]
  },
  {
   "cell_type": "code",
   "execution_count": 11,
   "metadata": {},
   "outputs": [
    {
     "name": "stdout",
     "output_type": "stream",
     "text": [
      "<class 'pandas.core.frame.DataFrame'>\n",
      "Index: 51 entries, 1 to 52\n",
      "Data columns (total 25 columns):\n",
      "group                                   51 non-null category\n",
      "name                                    51 non-null object\n",
      "age                                     51 non-null int64\n",
      "disability_or_illness                   51 non-null category\n",
      "prototype_1_arm-hand_steadiness         51 non-null int64\n",
      "prototype_1_manual_dexterity            51 non-null int64\n",
      "prototype_1_finger_dexterity            51 non-null int64\n",
      "prototype_1_control_precision           51 non-null int64\n",
      "prototype_1_multi-limb_co-ordination    51 non-null int64\n",
      "prototype_1_wrist-finger_speed          51 non-null int64\n",
      "prototype_2_arm-hand_steadiness         51 non-null int64\n",
      "prototype_2_manual_dexterity            51 non-null int64\n",
      "prototype_2_finger_dexterity            51 non-null int64\n",
      "prototype_2_control_precision           51 non-null int64\n",
      "prototype_2_multi-limb_co-ordination    51 non-null int64\n",
      "prototype_2_wrist-finger_speed          51 non-null int64\n",
      "prototype_3_arm-hand_steadiness         51 non-null int64\n",
      "prototype_3_manual_dexterity            51 non-null int64\n",
      "prototype_3_finger_dexterity            51 non-null int64\n",
      "prototype_3_control_precision           51 non-null int64\n",
      "prototype_3_multi-limb_co-ordination    51 non-null int64\n",
      "prototype_3_wrist-finger_speed          51 non-null int64\n",
      "prototype_1_scores                      51 non-null float64\n",
      "prototype_2_scores                      51 non-null float64\n",
      "prototype_3_scores                      51 non-null float64\n",
      "dtypes: category(2), float64(3), int64(19), object(1)\n",
      "memory usage: 12.6+ KB\n"
     ]
    }
   ],
   "source": [
    "df.info()"
   ]
  },
  {
   "cell_type": "markdown",
   "metadata": {},
   "source": [
    "### Assignment 2\n",
    "Visualizing data. I will visualize a lot in this part through python functions to familiarize myself with the data, and then select a graph for further study."
   ]
  },
  {
   "cell_type": "code",
   "execution_count": 12,
   "metadata": {},
   "outputs": [
    {
     "data": {
      "image/png": "[encoded data removed]",
      "text/plain": [
       "<Figure size 1080x360 with 3 Axes>"
      ]
     },
     "metadata": {},
     "output_type": "display_data"
    }
   ],
   "source": [
    "# Plotting scores for both groups for all three prototypes\n",
    "\n",
    "plt.figure(1, figsize=(15, 5))\n",
    "p1 = plt.subplot(131)\n",
    "sns.barplot(x=\"group\", y=\"prototype_1_scores\", data=df)\n",
    "p2 = plt.subplot(132, sharey=p1)\n",
    "sns.barplot(x=\"group\", y=\"prototype_2_scores\", data=df)\n",
    "p3 = plt.subplot(133, sharey=p1)\n",
    "sns.barplot(x=\"group\", y=\"prototype_3_scores\", data=df)\n",
    "plt.show()"
   ]
  },
  {
   "cell_type": "markdown",
   "metadata": {},
   "source": [
    "We see that the control group scores are higher than the user group for all three prototypes, and that the scores are quite even across all prototypes. It is no surprise to see the control group score higher than the user group on all prototypes, as they do not have the same disabilities or illnesses as the user group."
   ]
  },
  {
   "cell_type": "code",
   "execution_count": 13,
   "metadata": {},
   "outputs": [],
   "source": [
    "def compare_groups(col):\n",
    "    plt.figure(1, figsize=(15, 4))\n",
    "    p1 = plt.subplot(121)\n",
    "    sns.countplot(df_users.loc[:, col])\n",
    "    p2 = plt.subplot(122, sharey=p1)\n",
    "    sns.countplot(df_control.loc[:, col])\n",
    "    plt.show()"
   ]
  },
  {
   "cell_type": "code",
   "execution_count": 411,
   "metadata": {},
   "outputs": [],
   "source": [
    "# compare_groups('prototype_1_arm-hand_steadiness')"
   ]
  },
  {
   "cell_type": "code",
   "execution_count": 14,
   "metadata": {},
   "outputs": [],
   "source": [
    "def prototype_score(prototype_cols):\n",
    "    plt.figure(1, figsize=(15, 4))\n",
    "    plt.subplots_adjust(hspace=0.4)\n",
    "    p1 = plt.subplot(231)\n",
    "    sns.countplot(df_users.loc[:, prototype_cols[0]])\n",
    "    p2 = plt.subplot(232, sharey=p1)\n",
    "    sns.countplot(df_users.loc[:, prototype_cols[1]])\n",
    "    p3 = plt.subplot(233, sharey=p1)\n",
    "    sns.countplot(df_users.loc[:, prototype_cols[2]])\n",
    "    p4 = plt.subplot(234, sharey=p1)\n",
    "    sns.countplot(df_users.loc[:, prototype_cols[3]])\n",
    "    p5 = plt.subplot(235, sharey=p1)\n",
    "    sns.countplot(df_users.loc[:, prototype_cols[4]])\n",
    "    p6 = plt.subplot(236, sharey=p1)\n",
    "    sns.countplot(df_users.loc[:, prototype_cols[5]])\n",
    "    plt.show()"
   ]
  },
  {
   "cell_type": "markdown",
   "metadata": {},
   "source": [
    "Plotting distribution of scores \n",
    "- for all six columns for each prototype\n",
    "- for each column across all prototypes\n",
    "\n",
    "to visualize outliers, differences and simialarties across prototypes. Looking at the graphs below it would seem users struggle with finger dexterity on prototype 1 and arm-hand steadiness on prototype 2. Over all, it seems that prototype 3 achieves the highest over-all scores, with an exception for manual dexterity."
   ]
  },
  {
   "cell_type": "code",
   "execution_count": 15,
   "metadata": {},
   "outputs": [
    {
     "data": {
      "image/png": "[encoded data removed]",
      "text/plain": [
       "<Figure size 1080x288 with 6 Axes>"
      ]
     },
     "metadata": {},
     "output_type": "display_data"
    }
   ],
   "source": [
    "prototype_score(prototype_1_cols)"
   ]
  },
  {
   "cell_type": "code",
   "execution_count": 16,
   "metadata": {},
   "outputs": [
    {
     "data": {
      "image/png": "[encoded data removed]",
      "text/plain": [
       "<Figure size 1080x288 with 6 Axes>"
      ]
     },
     "metadata": {},
     "output_type": "display_data"
    }
   ],
   "source": [
    "prototype_score(prototype_2_cols)"
   ]
  },
  {
   "cell_type": "code",
   "execution_count": 17,
   "metadata": {},
   "outputs": [
    {
     "data": {
      "image/png": "[encoded data removed]",
      "text/plain": [
       "<Figure size 1080x288 with 6 Axes>"
      ]
     },
     "metadata": {},
     "output_type": "display_data"
    }
   ],
   "source": [
    "prototype_score(prototype_3_cols)"
   ]
  },
  {
   "cell_type": "code",
   "execution_count": 18,
   "metadata": {},
   "outputs": [],
   "source": [
    "# Compare the distribution of values for columns between the two prototypes.\n",
    "\n",
    "def compare_prototypes(col1, col2, col3):\n",
    "    plt.figure(1, figsize=(15, 4))\n",
    "    p1 = plt.subplot(131)\n",
    "    sns.countplot(df_users.loc[:, col1])\n",
    "    p2 = plt.subplot(132, sharey=p1)\n",
    "    sns.countplot(df_users.loc[:, col2])\n",
    "    p3 = plt.subplot(133, sharey=p1)\n",
    "    sns.countplot(df_users.loc[:, col3])\n",
    "    plt.show()"
   ]
  },
  {
   "cell_type": "code",
   "execution_count": 19,
   "metadata": {
    "scrolled": true
   },
   "outputs": [
    {
     "data": {
      "image/png": "[encoded data removed]",
      "text/plain": [
       "<Figure size 1080x288 with 3 Axes>"
      ]
     },
     "metadata": {},
     "output_type": "display_data"
    }
   ],
   "source": [
    "compare_prototypes('prototype_1_arm-hand_steadiness', 'prototype_2_arm-hand_steadiness', \n",
    "                   'prototype_3_arm-hand_steadiness')"
   ]
  },
  {
   "cell_type": "code",
   "execution_count": 20,
   "metadata": {},
   "outputs": [
    {
     "data": {
      "image/png": "[encoded data removed]",
      "text/plain": [
       "<Figure size 1080x288 with 3 Axes>"
      ]
     },
     "metadata": {},
     "output_type": "display_data"
    }
   ],
   "source": [
    "compare_prototypes('prototype_1_manual_dexterity', 'prototype_2_manual_dexterity', 'prototype_3_manual_dexterity')"
   ]
  },
  {
   "cell_type": "code",
   "execution_count": 21,
   "metadata": {},
   "outputs": [
    {
     "data": {
      "image/png": "[encoded data removed]",
      "text/plain": [
       "<Figure size 1080x288 with 3 Axes>"
      ]
     },
     "metadata": {},
     "output_type": "display_data"
    }
   ],
   "source": [
    "compare_prototypes('prototype_1_finger_dexterity', 'prototype_2_finger_dexterity', 'prototype_3_finger_dexterity')"
   ]
  },
  {
   "cell_type": "code",
   "execution_count": 22,
   "metadata": {
    "scrolled": true
   },
   "outputs": [
    {
     "data": {
      "image/png": "[encoded data removed]",
      "text/plain": [
       "<Figure size 1080x288 with 3 Axes>"
      ]
     },
     "metadata": {},
     "output_type": "display_data"
    }
   ],
   "source": [
    "compare_prototypes('prototype_1_multi-limb_co-ordination', 'prototype_2_multi-limb_co-ordination', 'prototype_3_multi-limb_co-ordination')"
   ]
  },
  {
   "cell_type": "markdown",
   "metadata": {},
   "source": [
    "Looking through the different graphs we see some clear differences between the prototypes. I want to look more closely at arm-hand steadiness across the prototypes, as especially prototype 2 scores quite poorly here. The same tendency is apparant in the data for multi-limb co-ordination as well."
   ]
  },
  {
   "cell_type": "code",
   "execution_count": 24,
   "metadata": {},
   "outputs": [
    {
     "data": {
      "image/png": "[encoded data removed]",
      "text/plain": [
       "<Figure size 1080x288 with 3 Axes>"
      ]
     },
     "metadata": {},
     "output_type": "display_data"
    }
   ],
   "source": [
    "compare_prototypes('prototype_1_arm-hand_steadiness', 'prototype_2_arm-hand_steadiness', \n",
    "                   'prototype_3_arm-hand_steadiness')"
   ]
  },
  {
   "cell_type": "markdown",
   "metadata": {},
   "source": [
    "### Assignment 3\n",
    "Descriptive statistics of arm-hand steadiness for the prototypes."
   ]
  },
  {
   "cell_type": "code",
   "execution_count": 45,
   "metadata": {},
   "outputs": [
    {
     "data": {
      "text/html": [
       "<div>\n",
       "<style scoped>\n",
       "    .dataframe tbody tr th:only-of-type {\n",
       "        vertical-align: middle;\n",
       "    }\n",
       "\n",
       "    .dataframe tbody tr th {\n",
       "        vertical-align: top;\n",
       "    }\n",
       "\n",
       "    .dataframe thead th {\n",
       "        text-align: right;\n",
       "    }\n",
       "</style>\n",
       "<table border=\"1\" class=\"dataframe\">\n",
       "  <thead>\n",
       "    <tr style=\"text-align: right;\">\n",
       "      <th></th>\n",
       "      <th>prototype_1_arm-hand_steadiness</th>\n",
       "      <th>prototype_2_arm-hand_steadiness</th>\n",
       "      <th>prototype_3_arm-hand_steadiness</th>\n",
       "    </tr>\n",
       "  </thead>\n",
       "  <tbody>\n",
       "    <tr>\n",
       "      <th>count</th>\n",
       "      <td>39.000000</td>\n",
       "      <td>39.000000</td>\n",
       "      <td>39.000000</td>\n",
       "    </tr>\n",
       "    <tr>\n",
       "      <th>mean</th>\n",
       "      <td>5.256410</td>\n",
       "      <td>3.051282</td>\n",
       "      <td>6.538462</td>\n",
       "    </tr>\n",
       "    <tr>\n",
       "      <th>std</th>\n",
       "      <td>2.267829</td>\n",
       "      <td>1.276276</td>\n",
       "      <td>2.269317</td>\n",
       "    </tr>\n",
       "    <tr>\n",
       "      <th>min</th>\n",
       "      <td>1.000000</td>\n",
       "      <td>1.000000</td>\n",
       "      <td>2.000000</td>\n",
       "    </tr>\n",
       "    <tr>\n",
       "      <th>max</th>\n",
       "      <td>9.000000</td>\n",
       "      <td>6.000000</td>\n",
       "      <td>10.000000</td>\n",
       "    </tr>\n",
       "  </tbody>\n",
       "</table>\n",
       "</div>"
      ],
      "text/plain": [
       "       prototype_1_arm-hand_steadiness  prototype_2_arm-hand_steadiness  \\\n",
       "count                        39.000000                        39.000000   \n",
       "mean                          5.256410                         3.051282   \n",
       "std                           2.267829                         1.276276   \n",
       "min                           1.000000                         1.000000   \n",
       "max                           9.000000                         6.000000   \n",
       "\n",
       "       prototype_3_arm-hand_steadiness  \n",
       "count                        39.000000  \n",
       "mean                          6.538462  \n",
       "std                           2.269317  \n",
       "min                           2.000000  \n",
       "max                          10.000000  "
      ]
     },
     "execution_count": 45,
     "metadata": {},
     "output_type": "execute_result"
    }
   ],
   "source": [
    "# Showing mean, standard deviation and range (max - min)\n",
    "\n",
    "df_users.loc[:, ['prototype_1_arm-hand_steadiness', 'prototype_2_arm-hand_steadiness', \n",
    "                 'prototype_3_arm-hand_steadiness']].describe().loc[['count','mean', 'std', 'min', 'max']]"
   ]
  },
  {
   "cell_type": "code",
   "execution_count": 60,
   "metadata": {},
   "outputs": [
    {
     "data": {
      "text/plain": [
       "prototype_1_arm-hand_steadiness    5.0\n",
       "prototype_2_arm-hand_steadiness    2.0\n",
       "prototype_3_arm-hand_steadiness    4.0\n",
       "Name: 0, dtype: float64"
      ]
     },
     "execution_count": 60,
     "metadata": {},
     "output_type": "execute_result"
    }
   ],
   "source": [
    "# Showing mode\n",
    "\n",
    "mode = df_users.loc[:, ['prototype_1_arm-hand_steadiness', 'prototype_2_arm-hand_steadiness', \n",
    "                 'prototype_3_arm-hand_steadiness']].mode(axis=0)\n",
    "mode.loc[0]"
   ]
  },
  {
   "cell_type": "code",
   "execution_count": 59,
   "metadata": {},
   "outputs": [
    {
     "data": {
      "text/plain": [
       "prototype_1_arm-hand_steadiness    5.0\n",
       "prototype_2_arm-hand_steadiness    3.0\n",
       "prototype_3_arm-hand_steadiness    7.0\n",
       "dtype: float64"
      ]
     },
     "execution_count": 59,
     "metadata": {},
     "output_type": "execute_result"
    }
   ],
   "source": [
    "# Showing median\n",
    "\n",
    "df_users.loc[:, ['prototype_1_arm-hand_steadiness', 'prototype_2_arm-hand_steadiness', \n",
    "                 'prototype_3_arm-hand_steadiness']].median()"
   ]
  },
  {
   "cell_type": "code",
   "execution_count": 62,
   "metadata": {},
   "outputs": [
    {
     "data": {
      "text/plain": [
       "prototype_1_arm-hand_steadiness    5.143050\n",
       "prototype_2_arm-hand_steadiness    1.628880\n",
       "prototype_3_arm-hand_steadiness    5.149798\n",
       "dtype: float64"
      ]
     },
     "execution_count": 62,
     "metadata": {},
     "output_type": "execute_result"
    }
   ],
   "source": [
    "# Showing variance\n",
    "\n",
    "df_users.loc[:, ['prototype_1_arm-hand_steadiness', 'prototype_2_arm-hand_steadiness', \n",
    "                 'prototype_3_arm-hand_steadiness']].var()"
   ]
  },
  {
   "cell_type": "code",
   "execution_count": 114,
   "metadata": {},
   "outputs": [],
   "source": [
    "mode_dict = {'prototype_1' : 5.0, 'prototype_2' : 2.0, 'protoype_3' : 4.0}"
   ]
  },
  {
   "cell_type": "code",
   "execution_count": 69,
   "metadata": {},
   "outputs": [],
   "source": [
    "def lineplot(x_data, y_data, x_label=\"\", y_label=\"\", title=\"\"):\n",
    "    # Create the plot object\n",
    "    _, ax = plt.subplots()\n",
    "\n",
    "    # Plot the best fit line, set the linewidth (lw), color and\n",
    "    # transparency (alpha) of the line\n",
    "    ax.plot(x_data, y_data, lw = 2, color = '#539caf', alpha = 1)\n",
    "\n",
    "    # Label the axes and provide a title\n",
    "    ax.set_title(title)\n",
    "    ax.set_xlabel(x_label)\n",
    "    ax.set_ylabel(y_label)"
   ]
  },
  {
   "cell_type": "markdown",
   "metadata": {},
   "source": [
    "I think both mode, mean and variance are interesting here, and they are related. Protoype 2 has low variance due to the fact that it scores low for arm-hand steadiness, and zero is the lower-bound for the scores, meaning a low mean will tend to imply a low variance. We see the same tendency looking at the range, with Prototype 2 having the lowest range interval going from 1-6. I choose to visualize mode here, as it shows the clear difference between the prototypes, with prototype 2 especially low."
   ]
  },
  {
   "cell_type": "code",
   "execution_count": 71,
   "metadata": {},
   "outputs": [
    {
     "data": {
      "image/png": "[encoded data removed]",
      "text/plain": [
       "<Figure size 432x288 with 1 Axes>"
      ]
     },
     "metadata": {},
     "output_type": "display_data"
    }
   ],
   "source": [
    "lineplot(mode_dict.keys(), mode_dict.values(), \"Prototypes\", \"Mode\", \"Mode for Arm-Hand Steadniess\")"
   ]
  },
  {
   "cell_type": "markdown",
   "metadata": {},
   "source": [
    "### Assignment 4\n"
   ]
  },
  {
   "cell_type": "markdown",
   "metadata": {},
   "source": [
    "**H0:** There is no difference in arm-hand steadiness for prototype 1 and prototype 2.\n",
    "\n",
    "**Within-group study**, the same group tests both prototypes.\n",
    "\n",
    "**Independent variable:** Prototype\n",
    "\n",
    "**Conditions for IV:** 2\n",
    "\n",
    "Based on this I choose paired samples t-test."
   ]
  },
  {
   "cell_type": "code",
   "execution_count": 126,
   "metadata": {},
   "outputs": [],
   "source": [
    "df_stats = df_users[['prototype_1_arm-hand_steadiness',\n",
    "                     'prototype_2_arm-hand_steadiness']].copy()\n",
    "\n",
    "df_stats.rename(columns={'prototype_1_arm-hand_steadiness': 'prototype_1',\n",
    "                         'prototype_2_arm-hand_steadiness' : 'prototype_2'}, inplace=True)"
   ]
  },
  {
   "cell_type": "code",
   "execution_count": 129,
   "metadata": {},
   "outputs": [
    {
     "data": {
      "text/plain": [
       "<matplotlib.axes._subplots.AxesSubplot at 0x7f1e94097a58>"
      ]
     },
     "execution_count": 129,
     "metadata": {},
     "output_type": "execute_result"
    },
    {
     "data": {
      "image/png": "[encoded data removed]",
      "text/plain": [
       "<Figure size 432x288 with 1 Axes>"
      ]
     },
     "metadata": {},
     "output_type": "display_data"
    }
   ],
   "source": [
    "df_stats[['prototype_1', 'prototype_2']].plot(kind='box')"
   ]
  },
  {
   "cell_type": "code",
   "execution_count": 132,
   "metadata": {},
   "outputs": [
    {
     "data": {
      "text/plain": [
       "<matplotlib.axes._subplots.AxesSubplot at 0x7f1e9380a4a8>"
      ]
     },
     "execution_count": 132,
     "metadata": {},
     "output_type": "execute_result"
    },
    {
     "data": {
      "image/png": "[encoded data removed]",
      "text/plain": [
       "<Figure size 432x288 with 1 Axes>"
      ]
     },
     "metadata": {},
     "output_type": "display_data"
    }
   ],
   "source": [
    "# Checking the distribution \n",
    "\n",
    "df_stats['prototype_difference'] = df_stats['prototype_1'] - df_stats['prototype_2']\n",
    "df_stats['prototype_difference'].plot(kind='hist', title= 'Prototype Difference Histogram')"
   ]
  },
  {
   "cell_type": "code",
   "execution_count": 133,
   "metadata": {},
   "outputs": [
    {
     "data": {
      "text/plain": [
       "Text(0.5,1,'Prototype Difference Q-Q Plot')"
      ]
     },
     "execution_count": 133,
     "metadata": {},
     "output_type": "execute_result"
    },
    {
     "data": {
      "image/png": "[encoded data removed]",
      "text/plain": [
       "<Figure size 432x288 with 1 Axes>"
      ]
     },
     "metadata": {},
     "output_type": "display_data"
    }
   ],
   "source": [
    "stats.probplot(df_stats['prototype_difference'], plot= plt)\n",
    "plt.title('Prototype Difference Q-Q Plot')"
   ]
  },
  {
   "cell_type": "markdown",
   "metadata": {},
   "source": [
    "From looking at the histogram and the Q-Q plot it would seem there is some deviation from normality, but our data set isn't really large enough to expect a perfectly normal distribution."
   ]
  },
  {
   "cell_type": "code",
   "execution_count": 138,
   "metadata": {},
   "outputs": [
    {
     "data": {
      "text/plain": [
       "Ttest_relResult(statistic=4.28564457748389, pvalue=0.00011993073454689787)"
      ]
     },
     "execution_count": 138,
     "metadata": {},
     "output_type": "execute_result"
    }
   ],
   "source": [
    "# Paired samples t-test\n",
    "\n",
    "stats.ttest_rel(df_stats['prototype_1'], df_stats['prototype_2'])"
   ]
  },
  {
   "cell_type": "markdown",
   "metadata": {},
   "source": [
    "### Assignment 5 - Describe results\n",
    "\n",
    "A paired sample t-test was used to analyze if there is any difference in arm-hand steadiness between prototype 1 and prototype 2, which we suspected from visual inspection of the data that there might be. Our null-hyptothesis was that there is no difference between the prototypes. With a p-value of 0.0001 we can reject the null-hypothesis, meaning there is a difference between the prototypes' arm-hand steadiness."
   ]
  },
  {
   "cell_type": "markdown",
   "metadata": {},
   "source": [
    "### Assignment 6\n",
    "In another study I could also have looked at all three prototypes, and used repeated measures ANOVA to test. I would proceed in the same way as I conducted the analysis above, and use AnovaRM from statsmodels to perform the test."
   ]
  },
  {
   "cell_type": "markdown",
   "metadata": {},
   "source": [
    "## Part B: Usability"
   ]
  },
  {
   "cell_type": "markdown",
   "metadata": {},
   "source": [
    "**A)** Where might you want to recruit potential participants? What users will be representative for the test? How many users should be involved?\n",
    "\n",
    "\n",
    "**B)** Would you utilize real patient data in the usability testing? Explain your answer!\n",
    "\n",
    "\n",
    "**C)** What might five representative tasks be? Develop and present a task list for the test, provide an argument for the specific tasks that you present the users with!\n",
    "\n",
    "\n",
    "**D)** Since privacy and security of medical data is important, how would you include tasks that assess how comfortable people are with the privacy and security of their data?\n",
    "\n",
    "\n",
    "**E)** Where should these usability tests take place? What type of setting would be most authentic and appropriateor what benefits and limitations would your selected setting have? How will the participants be briefed before the test? What specific steps might you take to make participants feel more at ease?\n",
    "\n",
    "\n",
    "**F)** How might you compare the usability of this interface with other interfaces for similar tasks?"
   ]
  }
 ],
 "metadata": {
  "kernelspec": {
   "display_name": "Python 3",
   "language": "python",
   "name": "python3"
  },
  "language_info": {
   "codemirror_mode": {
    "name": "ipython",
    "version": 3
   },
   "file_extension": ".py",
   "mimetype": "text/x-python",
   "name": "python",
   "nbconvert_exporter": "python",
   "pygments_lexer": "ipython3",
   "version": "3.6.5"
  }
 },
 "nbformat": 4,
 "nbformat_minor": 2
}
